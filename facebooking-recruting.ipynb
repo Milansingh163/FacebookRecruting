{
 "cells": [
  {
   "cell_type": "code",
   "execution_count": 1,
   "id": "74ef59b7",
   "metadata": {
    "_cell_guid": "b1076dfc-b9ad-4769-8c92-a6c4dae69d19",
    "_uuid": "8f2839f25d086af736a60e9eeb907d3b93b6e0e5",
    "execution": {
     "iopub.execute_input": "2022-08-30T20:12:06.795728Z",
     "iopub.status.busy": "2022-08-30T20:12:06.794799Z",
     "iopub.status.idle": "2022-08-30T20:12:06.811480Z",
     "shell.execute_reply": "2022-08-30T20:12:06.810050Z"
    },
    "papermill": {
     "duration": 0.02478,
     "end_time": "2022-08-30T20:12:06.814535",
     "exception": false,
     "start_time": "2022-08-30T20:12:06.789755",
     "status": "completed"
    },
    "tags": []
   },
   "outputs": [
    {
     "name": "stdout",
     "output_type": "stream",
     "text": [
      "/kaggle/input/FacebookRecruiting/train.zip\n",
      "/kaggle/input/FacebookRecruiting/train.gz\n",
      "/kaggle/input/FacebookRecruiting/random_benchmark.csv\n",
      "/kaggle/input/FacebookRecruiting/train.csv\n",
      "/kaggle/input/FacebookRecruiting/test.csv\n",
      "/kaggle/input/FacebookRecruiting/bfs_benchmark.csv\n",
      "/kaggle/input/FacebookRecruiting/train.7z\n"
     ]
    }
   ],
   "source": [
    "\n",
    "import numpy as np # linear algebra\n",
    "import pandas as pd # data processing, CSV file I/O (e.g. pd.read_csv)\n",
    "\n",
    "# Input data files are available in the read-only \"../input/\" directory\n",
    "\n",
    "import os\n",
    "for dirname, _, filenames in os.walk('/kaggle/input'):\n",
    "    for filename in filenames:\n",
    "        print(os.path.join(dirname, filename))\n"
   ]
  },
  {
   "cell_type": "code",
   "execution_count": 2,
   "id": "fbdbd038",
   "metadata": {
    "execution": {
     "iopub.execute_input": "2022-08-30T20:12:06.820928Z",
     "iopub.status.busy": "2022-08-30T20:12:06.820518Z",
     "iopub.status.idle": "2022-08-30T20:12:10.043463Z",
     "shell.execute_reply": "2022-08-30T20:12:10.042276Z"
    },
    "papermill": {
     "duration": 3.230818,
     "end_time": "2022-08-30T20:12:10.047927",
     "exception": false,
     "start_time": "2022-08-30T20:12:06.817109",
     "status": "completed"
    },
    "tags": []
   },
   "outputs": [
    {
     "name": "stdout",
     "output_type": "stream",
     "text": [
      "(9437519, 2)\n"
     ]
    },
    {
     "data": {
      "text/html": [
       "<div>\n",
       "<style scoped>\n",
       "    .dataframe tbody tr th:only-of-type {\n",
       "        vertical-align: middle;\n",
       "    }\n",
       "\n",
       "    .dataframe tbody tr th {\n",
       "        vertical-align: top;\n",
       "    }\n",
       "\n",
       "    .dataframe thead th {\n",
       "        text-align: right;\n",
       "    }\n",
       "</style>\n",
       "<table border=\"1\" class=\"dataframe\">\n",
       "  <thead>\n",
       "    <tr style=\"text-align: right;\">\n",
       "      <th></th>\n",
       "      <th>source_node</th>\n",
       "      <th>destination_node</th>\n",
       "    </tr>\n",
       "  </thead>\n",
       "  <tbody>\n",
       "    <tr>\n",
       "      <th>0</th>\n",
       "      <td>1</td>\n",
       "      <td>690569</td>\n",
       "    </tr>\n",
       "    <tr>\n",
       "      <th>1</th>\n",
       "      <td>1</td>\n",
       "      <td>315892</td>\n",
       "    </tr>\n",
       "    <tr>\n",
       "      <th>2</th>\n",
       "      <td>1</td>\n",
       "      <td>189226</td>\n",
       "    </tr>\n",
       "    <tr>\n",
       "      <th>3</th>\n",
       "      <td>2</td>\n",
       "      <td>834328</td>\n",
       "    </tr>\n",
       "    <tr>\n",
       "      <th>4</th>\n",
       "      <td>2</td>\n",
       "      <td>1615927</td>\n",
       "    </tr>\n",
       "  </tbody>\n",
       "</table>\n",
       "</div>"
      ],
      "text/plain": [
       "   source_node  destination_node\n",
       "0            1            690569\n",
       "1            1            315892\n",
       "2            1            189226\n",
       "3            2            834328\n",
       "4            2           1615927"
      ]
     },
     "execution_count": 2,
     "metadata": {},
     "output_type": "execute_result"
    }
   ],
   "source": [
    "df = pd.read_csv('../input/FacebookRecruiting/train.csv')\n",
    "print(df.shape)\n",
    "df.head()"
   ]
  },
  {
   "cell_type": "code",
   "execution_count": 3,
   "id": "612e3531",
   "metadata": {
    "execution": {
     "iopub.execute_input": "2022-08-30T20:12:10.055003Z",
     "iopub.status.busy": "2022-08-30T20:12:10.054568Z",
     "iopub.status.idle": "2022-08-30T20:12:10.597240Z",
     "shell.execute_reply": "2022-08-30T20:12:10.595931Z"
    },
    "papermill": {
     "duration": 0.549031,
     "end_time": "2022-08-30T20:12:10.599629",
     "exception": false,
     "start_time": "2022-08-30T20:12:10.050598",
     "status": "completed"
    },
    "tags": []
   },
   "outputs": [
    {
     "data": {
      "text/html": [
       "<div>\n",
       "<style scoped>\n",
       "    .dataframe tbody tr th:only-of-type {\n",
       "        vertical-align: middle;\n",
       "    }\n",
       "\n",
       "    .dataframe tbody tr th {\n",
       "        vertical-align: top;\n",
       "    }\n",
       "\n",
       "    .dataframe thead th {\n",
       "        text-align: right;\n",
       "    }\n",
       "</style>\n",
       "<table border=\"1\" class=\"dataframe\">\n",
       "  <thead>\n",
       "    <tr style=\"text-align: right;\">\n",
       "      <th></th>\n",
       "      <th>destination_node</th>\n",
       "    </tr>\n",
       "    <tr>\n",
       "      <th>source_node</th>\n",
       "      <th></th>\n",
       "    </tr>\n",
       "  </thead>\n",
       "  <tbody>\n",
       "    <tr>\n",
       "      <th>1</th>\n",
       "      <td>690569</td>\n",
       "    </tr>\n",
       "    <tr>\n",
       "      <th>2</th>\n",
       "      <td>834328</td>\n",
       "    </tr>\n",
       "    <tr>\n",
       "      <th>3</th>\n",
       "      <td>176995</td>\n",
       "    </tr>\n",
       "    <tr>\n",
       "      <th>4</th>\n",
       "      <td>6271</td>\n",
       "    </tr>\n",
       "    <tr>\n",
       "      <th>5</th>\n",
       "      <td>1646876</td>\n",
       "    </tr>\n",
       "    <tr>\n",
       "      <th>...</th>\n",
       "      <td>...</td>\n",
       "    </tr>\n",
       "    <tr>\n",
       "      <th>1862216</th>\n",
       "      <td>280466</td>\n",
       "    </tr>\n",
       "    <tr>\n",
       "      <th>1862217</th>\n",
       "      <td>391945</td>\n",
       "    </tr>\n",
       "    <tr>\n",
       "      <th>1862218</th>\n",
       "      <td>995936</td>\n",
       "    </tr>\n",
       "    <tr>\n",
       "      <th>1862219</th>\n",
       "      <td>1150552</td>\n",
       "    </tr>\n",
       "    <tr>\n",
       "      <th>1862220</th>\n",
       "      <td>1748794</td>\n",
       "    </tr>\n",
       "  </tbody>\n",
       "</table>\n",
       "<p>1587708 rows × 1 columns</p>\n",
       "</div>"
      ],
      "text/plain": [
       "             destination_node\n",
       "source_node                  \n",
       "1                      690569\n",
       "2                      834328\n",
       "3                      176995\n",
       "4                        6271\n",
       "5                     1646876\n",
       "...                       ...\n",
       "1862216                280466\n",
       "1862217                391945\n",
       "1862218                995936\n",
       "1862219               1150552\n",
       "1862220               1748794\n",
       "\n",
       "[1587708 rows x 1 columns]"
      ]
     },
     "execution_count": 3,
     "metadata": {},
     "output_type": "execute_result"
    }
   ],
   "source": [
    "databysource = df.groupby('source_node')\n",
    "databysource.first()"
   ]
  },
  {
   "cell_type": "code",
   "execution_count": null,
   "id": "0a97bb0c",
   "metadata": {
    "papermill": {
     "duration": 0.002265,
     "end_time": "2022-08-30T20:12:10.604633",
     "exception": false,
     "start_time": "2022-08-30T20:12:10.602368",
     "status": "completed"
    },
    "tags": []
   },
   "outputs": [],
   "source": []
  }
 ],
 "metadata": {
  "kernelspec": {
   "display_name": "Python 3",
   "language": "python",
   "name": "python3"
  },
  "language_info": {
   "codemirror_mode": {
    "name": "ipython",
    "version": 3
   },
   "file_extension": ".py",
   "mimetype": "text/x-python",
   "name": "python",
   "nbconvert_exporter": "python",
   "pygments_lexer": "ipython3",
   "version": "3.7.12"
  },
  "papermill": {
   "default_parameters": {},
   "duration": 14.493419,
   "end_time": "2022-08-30T20:12:11.329828",
   "environment_variables": {},
   "exception": null,
   "input_path": "__notebook__.ipynb",
   "output_path": "__notebook__.ipynb",
   "parameters": {},
   "start_time": "2022-08-30T20:11:56.836409",
   "version": "2.3.4"
  }
 },
 "nbformat": 4,
 "nbformat_minor": 5
}
