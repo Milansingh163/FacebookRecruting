{
 "cells": [
  {
   "cell_type": "code",
   "execution_count": 1,
   "id": "6086d8c8",
   "metadata": {
    "_cell_guid": "b1076dfc-b9ad-4769-8c92-a6c4dae69d19",
    "_uuid": "8f2839f25d086af736a60e9eeb907d3b93b6e0e5",
    "execution": {
     "iopub.execute_input": "2022-08-20T19:37:45.196474Z",
     "iopub.status.busy": "2022-08-20T19:37:45.195831Z",
     "iopub.status.idle": "2022-08-20T19:37:45.213373Z",
     "shell.execute_reply": "2022-08-20T19:37:45.212165Z"
    },
    "papermill": {
     "duration": 0.026066,
     "end_time": "2022-08-20T19:37:45.216660",
     "exception": false,
     "start_time": "2022-08-20T19:37:45.190594",
     "status": "completed"
    },
    "tags": []
   },
   "outputs": [
    {
     "name": "stdout",
     "output_type": "stream",
     "text": [
      "/kaggle/input/FacebookRecruiting/train.zip\n",
      "/kaggle/input/FacebookRecruiting/train.gz\n",
      "/kaggle/input/FacebookRecruiting/random_benchmark.csv\n",
      "/kaggle/input/FacebookRecruiting/train.csv\n",
      "/kaggle/input/FacebookRecruiting/test.csv\n",
      "/kaggle/input/FacebookRecruiting/bfs_benchmark.csv\n",
      "/kaggle/input/FacebookRecruiting/train.7z\n"
     ]
    }
   ],
   "source": [
    "\n",
    "import numpy as np # linear algebra\n",
    "import pandas as pd # data processing, CSV file I/O (e.g. pd.read_csv)\n",
    "\n",
    "# Input data files are available in the read-only \"../input/\" directory\n",
    "\n",
    "import os\n",
    "for dirname, _, filenames in os.walk('/kaggle/input'):\n",
    "    for filename in filenames:\n",
    "        print(os.path.join(dirname, filename))\n"
   ]
  },
  {
   "cell_type": "code",
   "execution_count": 2,
   "id": "8d0751d2",
   "metadata": {
    "execution": {
     "iopub.execute_input": "2022-08-20T19:37:45.223017Z",
     "iopub.status.busy": "2022-08-20T19:37:45.222554Z",
     "iopub.status.idle": "2022-08-20T19:37:47.995650Z",
     "shell.execute_reply": "2022-08-20T19:37:47.994276Z"
    },
    "papermill": {
     "duration": 2.778877,
     "end_time": "2022-08-20T19:37:47.998265",
     "exception": false,
     "start_time": "2022-08-20T19:37:45.219388",
     "status": "completed"
    },
    "tags": []
   },
   "outputs": [
    {
     "name": "stdout",
     "output_type": "stream",
     "text": [
      "(9437519, 2)\n"
     ]
    },
    {
     "data": {
      "text/html": [
       "<div>\n",
       "<style scoped>\n",
       "    .dataframe tbody tr th:only-of-type {\n",
       "        vertical-align: middle;\n",
       "    }\n",
       "\n",
       "    .dataframe tbody tr th {\n",
       "        vertical-align: top;\n",
       "    }\n",
       "\n",
       "    .dataframe thead th {\n",
       "        text-align: right;\n",
       "    }\n",
       "</style>\n",
       "<table border=\"1\" class=\"dataframe\">\n",
       "  <thead>\n",
       "    <tr style=\"text-align: right;\">\n",
       "      <th></th>\n",
       "      <th>source_node</th>\n",
       "      <th>destination_node</th>\n",
       "    </tr>\n",
       "  </thead>\n",
       "  <tbody>\n",
       "    <tr>\n",
       "      <th>0</th>\n",
       "      <td>1</td>\n",
       "      <td>690569</td>\n",
       "    </tr>\n",
       "    <tr>\n",
       "      <th>1</th>\n",
       "      <td>1</td>\n",
       "      <td>315892</td>\n",
       "    </tr>\n",
       "    <tr>\n",
       "      <th>2</th>\n",
       "      <td>1</td>\n",
       "      <td>189226</td>\n",
       "    </tr>\n",
       "    <tr>\n",
       "      <th>3</th>\n",
       "      <td>2</td>\n",
       "      <td>834328</td>\n",
       "    </tr>\n",
       "    <tr>\n",
       "      <th>4</th>\n",
       "      <td>2</td>\n",
       "      <td>1615927</td>\n",
       "    </tr>\n",
       "  </tbody>\n",
       "</table>\n",
       "</div>"
      ],
      "text/plain": [
       "   source_node  destination_node\n",
       "0            1            690569\n",
       "1            1            315892\n",
       "2            1            189226\n",
       "3            2            834328\n",
       "4            2           1615927"
      ]
     },
     "execution_count": 2,
     "metadata": {},
     "output_type": "execute_result"
    }
   ],
   "source": [
    "df = pd.read_csv('../input/FacebookRecruiting/train.csv')\n",
    "print(df.shape)\n",
    "df.head()"
   ]
  },
  {
   "cell_type": "code",
   "execution_count": 3,
   "id": "0713df77",
   "metadata": {
    "execution": {
     "iopub.execute_input": "2022-08-20T19:37:48.005368Z",
     "iopub.status.busy": "2022-08-20T19:37:48.004973Z",
     "iopub.status.idle": "2022-08-20T19:37:48.016221Z",
     "shell.execute_reply": "2022-08-20T19:37:48.015045Z"
    },
    "papermill": {
     "duration": 0.017543,
     "end_time": "2022-08-20T19:37:48.018583",
     "exception": false,
     "start_time": "2022-08-20T19:37:48.001040",
     "status": "completed"
    },
    "tags": []
   },
   "outputs": [
    {
     "data": {
      "text/plain": [
       "<pandas.core.groupby.generic.DataFrameGroupBy object at 0x7f43db935d50>"
      ]
     },
     "execution_count": 3,
     "metadata": {},
     "output_type": "execute_result"
    }
   ],
   "source": [
    "databysource = df.groupby('source_node')\n",
    "databysource"
   ]
  },
  {
   "cell_type": "code",
   "execution_count": null,
   "id": "07218b0d",
   "metadata": {
    "papermill": {
     "duration": 0.002188,
     "end_time": "2022-08-20T19:37:48.023354",
     "exception": false,
     "start_time": "2022-08-20T19:37:48.021166",
     "status": "completed"
    },
    "tags": []
   },
   "outputs": [],
   "source": []
  }
 ],
 "metadata": {
  "kernelspec": {
   "display_name": "Python 3",
   "language": "python",
   "name": "python3"
  },
  "language_info": {
   "codemirror_mode": {
    "name": "ipython",
    "version": 3
   },
   "file_extension": ".py",
   "mimetype": "text/x-python",
   "name": "python",
   "nbconvert_exporter": "python",
   "pygments_lexer": "ipython3",
   "version": "3.7.12"
  },
  "papermill": {
   "default_parameters": {},
   "duration": 13.728215,
   "end_time": "2022-08-20T19:37:48.646922",
   "environment_variables": {},
   "exception": null,
   "input_path": "__notebook__.ipynb",
   "output_path": "__notebook__.ipynb",
   "parameters": {},
   "start_time": "2022-08-20T19:37:34.918707",
   "version": "2.3.4"
  }
 },
 "nbformat": 4,
 "nbformat_minor": 5
}
